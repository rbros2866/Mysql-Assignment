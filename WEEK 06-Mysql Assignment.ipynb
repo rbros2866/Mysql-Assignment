{
 "cells": [
  {
   "cell_type": "markdown",
   "id": "99219fbb",
   "metadata": {},
   "source": [
    "Q1. What is a database? Differentiate between SQL and NoSQL databases."
   ]
  },
  {
   "cell_type": "markdown",
   "id": "27a4af80",
   "metadata": {},
   "source": [
    "A database is a structured collection of data that is organized, managed, and stored in a way that allows for efficient retrieval and manipulation of information. Databases are used to store and manage vast amounts of data for various applications and systems, ranging from simple lists to complex data structures supporting critical business operations."
   ]
  },
  {
   "cell_type": "markdown",
   "id": "24ab209a",
   "metadata": {},
   "source": [
    "\n",
    "SQL Databases:\n",
    "\n",
    "Based on the relational model with predefined schema and tables.\n",
    "\n",
    "Data is stored in rows and columns, representing a structured format.\n",
    "\n",
    "Follows ACID (Atomicity, Consistency, Isolation, Durability) properties, ensuring data integrity.\n",
    "\n",
    "Uses Structured Query Language (SQL) for querying and managing data.\n",
    "\n",
    "Suitable for applications with well-defined and stable schemas.\n",
    "\n",
    "Good for complex queries and relationships between data.\n",
    "\n",
    "Examples: MySQL, PostgreSQL, Oracle, SQL Server."
   ]
  },
  {
   "cell_type": "markdown",
   "id": "edb486e8",
   "metadata": {},
   "source": [
    "NoSQL Databases:\n",
    "\n",
    "Embrace various data models like key-value, document, column-family, or graph.\n",
    "\n",
    "Schema flexibility allows for dynamic and unstructured data storage.\n",
    "\n",
    "Often designed to be distributed and scalable, making them suitable for big data applications.\n",
    "\n",
    "May not guarantee full ACID properties but focus on high availability and partition tolerance (CAP theorem).\n",
    "\n",
    "Uses different query languages or APIs specific to the database type (e.g., MongoDB's BSON format).\n",
    "\n",
    "Ideal for applications with evolving or unpredictable data schemas.\n",
    "\n",
    "Examples: MongoDB, Cassandra, Couchbase, Redis."
   ]
  },
  {
   "cell_type": "markdown",
   "id": "a617ab6b",
   "metadata": {},
   "source": [
    "Q2. What is DDL? Explain why CREATE, DROP, ALTER, and TRUNCATE are used with an example."
   ]
  },
  {
   "cell_type": "markdown",
   "id": "1b8a2999",
   "metadata": {},
   "source": [
    "DDL stands for Data Definition Language, which is a subset of SQL (Structured Query Language) used to define and manage the structure of a database and its objects."
   ]
  },
  {
   "cell_type": "markdown",
   "id": "e0ad453f",
   "metadata": {},
   "source": [
    "**CREATE:** Used to create new database objects like tables, indexes, or views. For example:\n",
    "\n",
    "CREATE TABLE employees (\n",
    "\n",
    "    id INT PRIMARY KEY,\n",
    "    \n",
    "    name VARCHAR(50),\n",
    "    \n",
    "    age INT\n",
    "    \n",
    ");\n"
   ]
  },
  {
   "cell_type": "markdown",
   "id": "b28c81b7",
   "metadata": {},
   "source": [
    "**DROP:** Used to delete existing database objects like tables or indexes. For example:\n",
    "\n",
    "DROP TABLE employees;\n"
   ]
  },
  {
   "cell_type": "markdown",
   "id": "5b738433",
   "metadata": {},
   "source": [
    "**ALTER:** Used to modify the structure of an existing database object, such as adding or removing columns. For example:\n",
    "\n",
    "ALTER TABLE employees\n",
    "\n",
    "ADD salary DECIMAL(10, 2);\n"
   ]
  },
  {
   "cell_type": "markdown",
   "id": "53a3b9dd",
   "metadata": {},
   "source": [
    "**TRUNCATE:** Used to remove all rows from a table but keeps the table structure intact. Unlike DROP, it doesn't delete the table itself. For example:\n",
    "\n",
    "TRUNCATE TABLE employees;\n"
   ]
  },
  {
   "cell_type": "markdown",
   "id": "b3b83db9",
   "metadata": {},
   "source": [
    "Q3. What is DML? Explain INSERT, UPDATE, and DELETE with an example."
   ]
  },
  {
   "cell_type": "markdown",
   "id": "39214f18",
   "metadata": {},
   "source": [
    "DML stands for Data Manipulation Language, which is another subset of SQL (Structured Query Language) used to manipulate the data stored in a database. DML statements are used to insert, update, and delete data within the tables of the database."
   ]
  },
  {
   "cell_type": "markdown",
   "id": "41eefa6a",
   "metadata": {},
   "source": [
    "**INSERT:** Used to add new records (rows) into a table. For example:\n",
    "\n",
    "INSERT INTO employees (id, name, age, salary)\n",
    "\n",
    "VALUES (1, 'John Doe', 30, 50000);\n",
    "\n",
    "**UPDATE:** Used to modify existing records in a table. It allows changing specific column values based on certain conditions. For example:\n",
    "\n",
    "UPDATE employees\n",
    "\n",
    "SET salary = 55000\n",
    "\n",
    "WHERE id = 1;\n",
    "\n",
    "\n",
    "**DELETE:** Used to remove one or more records from a table based on certain conditions. For example:\n",
    "\n",
    "DELETE FROM employees\n",
    "\n",
    "WHERE age > 60;\n",
    "\n"
   ]
  },
  {
   "cell_type": "markdown",
   "id": "fcb775f7",
   "metadata": {},
   "source": [
    "Q4. What is DQL? Explain SELECT with an example."
   ]
  },
  {
   "cell_type": "markdown",
   "id": "796ffd5b",
   "metadata": {},
   "source": [
    "DQL stands for Data Query Language, which is a subset of SQL (Structured Query Language) used to retrieve and query data from a database. DQL is primarily focused on fetching data from database tables.\n",
    "\n",
    "The most common DQL statement is SELECT, which allows you to retrieve specific data from one or more tables based on specified conditions.\n",
    "\n",
    "Example:\n",
    "\n",
    "SELECT name, age\n",
    "\n",
    "FROM employees\n",
    "\n",
    "WHERE salary > 50000;\n"
   ]
  },
  {
   "cell_type": "markdown",
   "id": "cab068ca",
   "metadata": {},
   "source": [
    "Q5. Explain Primary Key and Foreign Key."
   ]
  },
  {
   "cell_type": "markdown",
   "id": "b849bbe2",
   "metadata": {},
   "source": [
    "**Primary Key:**\n",
    "\n",
    "A Primary Key is a unique identifier for a record (row) in a database table.\n",
    "\n",
    "It ensures that each row in the table is uniquely identified and distinguishes it from other rows in the same table.\n",
    "\n",
    "The primary key constraint enforces the uniqueness and non-nullability of the key's value.\n",
    "\n",
    "By definition, a primary key cannot have duplicate or NULL values.\n",
    "\n",
    "It provides a way to efficiently index and access data in the table.\n",
    "\n",
    "In most databases, a primary key is automatically indexed for faster searching and retrieval.\n",
    "\n",
    "It is a critical concept in database design as it helps establish relationships between different tables.\n",
    "\n",
    "**Foreign Key:**\n",
    "\n",
    "A Foreign Key is a field or set of fields in a table that references the primary key of another table.\n",
    "\n",
    "It creates a link or relationship between two tables, representing a parent-child relationship between them.\n",
    "\n",
    "The foreign key constraint ensures that the values in the foreign key column(s) correspond to existing values in the primary key of the referenced table or are NULL.\n",
    "\n",
    "It helps enforce data integrity and referential integrity, ensuring that the relationships between related tables remain consistent.\n",
    "\n",
    "Foreign keys are used to establish associations between tables, enabling developers to retrieve related data across multiple tables using joins.\n",
    "\n",
    "When a foreign key references a primary key, it establishes a \"one-to-many\" relationship between the two tables.\n",
    "\n",
    "It allows for cascading actions, such as cascading deletes or updates, which can automatically propagate changes across related tables."
   ]
  },
  {
   "cell_type": "markdown",
   "id": "329a8979",
   "metadata": {},
   "source": [
    "Q6. Write a python code to connect MySQL to python. Explain the cursor() and execute() method."
   ]
  },
  {
   "cell_type": "code",
   "execution_count": null,
   "id": "e349fd90",
   "metadata": {},
   "outputs": [],
   "source": [
    "import mysql.connector\n",
    "\n",
    "# Replace these with your actual MySQL server credentials\n",
    "db_config = {\n",
    "    \"host\": \"localhost\",\n",
    "    \"user\": \"your_username\",\n",
    "    \"password\": \"your_password\",\n",
    "    \"database\": \"your_database_name\",\n",
    "}\n",
    "\n",
    "# Connect to the MySQL server\n",
    "conn = mysql.connector.connect(**db_config)\n",
    "\n",
    "# Check if the connection was successful\n",
    "if conn.is_connected():\n",
    "    print('Connected to MySQL server')\n",
    "else:\n",
    "    print('Failed to connect to MySQL server')\n",
    "\n",
    "# Perform database operations...\n",
    "\n",
    "# Close the connection when you're done\n",
    "conn.close()\n"
   ]
  },
  {
   "cell_type": "code",
   "execution_count": null,
   "id": "49540d7e",
   "metadata": {},
   "outputs": [],
   "source": [
    "mycursor = conn.cursor()\n",
    "mycursor.execute(\"CREATE DATABASE employees\")\n",
    "\n",
    "mycursor.execute(\"SELECT * FROM employees\")\n",
    "rows = mycursor.fetchall()  # Fetch all rows returned by the query\n",
    "for row in rows:\n",
    "    print(row)"
   ]
  },
  {
   "cell_type": "markdown",
   "id": "5bef664a",
   "metadata": {},
   "source": [
    "**cursor():** The cursor() method is used to create a cursor object, which allows you to execute SQL statements and interact with the database. The cursor acts as a pointer to the result set of a query. It allows you to fetch data, iterate over rows, and perform various operations on the data.\n",
    "\n",
    "**execute():** The execute() method is used to execute SQL queries or statements on the MySQL server. It takes the SQL query as a string parameter and executes it. For queries that return data (e.g., SELECT), you can use fetchall(), fetchone(), or fetchmany() methods on the cursor to retrieve the results."
   ]
  },
  {
   "cell_type": "markdown",
   "id": "54cf0ec6",
   "metadata": {},
   "source": [
    "Q7. Give the order of execution of SQL clauses in an SQL query."
   ]
  },
  {
   "cell_type": "markdown",
   "id": "a2e927d4",
   "metadata": {},
   "source": [
    "In an SQL query, the order of execution for the clauses is as follows:\n",
    "\n",
    "**FROM:** Specifies the table or tables from which data will be retrieved.\n",
    "\n",
    "**WHERE:** Filters the rows based on the specified conditions. It acts as a filter for the rows retrieved from the tables specified in the FROM clause.\n",
    "\n",
    "**GROUP BY:** Groups the rows based on the specified columns. It is used with aggregate functions like SUM, COUNT, AVG, etc., to perform calculations on groups of data.\n",
    "\n",
    "**HAVING:** Filters the grouped rows based on the specified conditions. It acts as a filter for the groups created by the GROUP BY clause.\n",
    "\n",
    "**SELECT:** Specifies the columns to be retrieved from the tables or the expressions to be computed. It is applied after the FROM, WHERE, GROUP BY, and HAVING clauses to determine the final output columns.\n",
    "\n",
    "**ORDER BY:** Sorts the result set based on the specified columns. It is applied after all the previous clauses to determine the order of the final output.\n",
    "\n",
    "**LIMIT/OFFSET**: Limits the number of rows returned or skips a specified number of rows from the beginning of the result set. This clause is typically used for pagination or to restrict the number of rows returned."
   ]
  },
  {
   "cell_type": "code",
   "execution_count": null,
   "id": "458c731c",
   "metadata": {},
   "outputs": [],
   "source": []
  }
 ],
 "metadata": {
  "kernelspec": {
   "display_name": "Python 3 (ipykernel)",
   "language": "python",
   "name": "python3"
  },
  "language_info": {
   "codemirror_mode": {
    "name": "ipython",
    "version": 3
   },
   "file_extension": ".py",
   "mimetype": "text/x-python",
   "name": "python",
   "nbconvert_exporter": "python",
   "pygments_lexer": "ipython3",
   "version": "3.11.1"
  }
 },
 "nbformat": 4,
 "nbformat_minor": 5
}
